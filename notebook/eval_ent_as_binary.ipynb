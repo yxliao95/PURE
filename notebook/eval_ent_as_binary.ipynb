{
 "cells": [
  {
   "cell_type": "code",
   "execution_count": 11,
   "metadata": {},
   "outputs": [],
   "source": [
    "src_json_file = \"/root/workspace/PURE/models/ent-scib-ctx0/ent_pred_test.json\"\n",
    "with open(src_json_file,\"r\") as f:\n",
    "    docs = f.readlines()"
   ]
  },
  {
   "cell_type": "code",
   "execution_count": 12,
   "metadata": {},
   "outputs": [],
   "source": [
    "import json\n",
    "\n",
    "docs_list = [json.loads(doc) for doc in docs]"
   ]
  },
  {
   "cell_type": "code",
   "execution_count": 13,
   "metadata": {},
   "outputs": [
    {
     "name": "stdout",
     "output_type": "stream",
     "text": [
      "P: %.5f, R: %.5f, F1: %.5f 0.7928571428571428 0.7905044510385757 0.7916790490341754\n"
     ]
    }
   ],
   "source": [
    "correct = 0\n",
    "tot_pred = 0\n",
    "tot_gold = 0\n",
    "\n",
    "for doc in docs_list:\n",
    "    gt_ner_span_list = []\n",
    "    pred_ner_span_list = []\n",
    "    for gt_ner in [ner for sent_ner in doc[\"ner\"] for ner in sent_ner]:\n",
    "        gt_ner_span_list.append((gt_ner[0],gt_ner[1]))\n",
    "    for pred_ner in [ner for sent_ner in doc[\"predicted_ner\"] for ner in sent_ner]:\n",
    "        pred_ner_span_list.append((pred_ner[0],pred_ner[1]))\n",
    "    \n",
    "    tot_gold += len(gt_ner_span_list)\n",
    "    tot_pred += len(pred_ner_span_list)\n",
    "    for pred_ner_span in pred_ner_span_list:\n",
    "        if pred_ner_span in gt_ner_span_list:\n",
    "            correct += 1\n",
    "    \n",
    "p = correct / tot_pred if correct > 0 else 0.0\n",
    "r = correct / tot_gold if correct > 0 else 0.0\n",
    "f1 = 2 * (p * r) / (p + r) if correct > 0 else 0.0\n",
    "print(\"P: %.5f, R: %.5f, F1: %.5f\", p, r, f1)"
   ]
  }
 ],
 "metadata": {
  "kernelspec": {
   "display_name": "cxr_graph",
   "language": "python",
   "name": "python3"
  },
  "language_info": {
   "codemirror_mode": {
    "name": "ipython",
    "version": 3
   },
   "file_extension": ".py",
   "mimetype": "text/x-python",
   "name": "python",
   "nbconvert_exporter": "python",
   "pygments_lexer": "ipython3",
   "version": "3.9.17"
  },
  "orig_nbformat": 4
 },
 "nbformat": 4,
 "nbformat_minor": 2
}
